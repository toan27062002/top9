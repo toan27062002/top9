{
  "nbformat": 4,
  "nbformat_minor": 0,
  "metadata": {
    "colab": {
      "name": "Untitled4.ipynb",
      "provenance": [],
      "authorship_tag": "ABX9TyMjKwO4826kNC5SbHjtExge",
      "include_colab_link": true
    },
    "kernelspec": {
      "name": "python3",
      "display_name": "Python 3"
    }
  },
  "cells": [
    {
      "cell_type": "markdown",
      "metadata": {
        "id": "view-in-github",
        "colab_type": "text"
      },
      "source": [
        "<a href=\"https://colab.research.google.com/github/toan27062002/top9/blob/main/ex6.ipynb\" target=\"_parent\"><img src=\"https://colab.research.google.com/assets/colab-badge.svg\" alt=\"Open In Colab\"/></a>"
      ]
    },
    {
      "cell_type": "code",
      "metadata": {
        "colab": {
          "base_uri": "https://localhost:8080/"
        },
        "id": "-kSh0xqjUsPa",
        "outputId": "4d7cfe91-2a1f-46ec-b295-5f6c396e7bb7"
      },
      "source": [
        "n=int(input(\"n = \"))\n",
        "while n<=0 or n>19999:\n",
        "    print(\"nhap lai\")\n",
        "    n=int(input(\"n = \"))\n",
        "import random\n",
        "list=random.sample(range(-10000,10000), n)\n",
        "for i in range(n):\n",
        "    print('phan tu thu ',i,'la: ',list[i])\n",
        "max=0\n",
        "min=0\n",
        "for i in range(n):\n",
        "    if list[i]>max:\n",
        "        max=list[i]\n",
        "    else:\n",
        "        max!=list[i]\n",
        "    if list[i]<min:\n",
        "        min= list[i]\n",
        "    else:\n",
        "        min!=list[i]\n",
        "print('max = ',max,'     min = ',min)    \n"
      ],
      "execution_count": 2,
      "outputs": [
        {
          "output_type": "stream",
          "text": [
            "n = 10\n",
            "phan tu thu  0 la:  -509\n",
            "phan tu thu  1 la:  2802\n",
            "phan tu thu  2 la:  -6386\n",
            "phan tu thu  3 la:  7183\n",
            "phan tu thu  4 la:  3201\n",
            "phan tu thu  5 la:  -6694\n",
            "phan tu thu  6 la:  5306\n",
            "phan tu thu  7 la:  -9998\n",
            "phan tu thu  8 la:  3612\n",
            "phan tu thu  9 la:  -8362\n",
            "max =  7183      min =  -9998\n"
          ],
          "name": "stdout"
        }
      ]
    }
  ]
}