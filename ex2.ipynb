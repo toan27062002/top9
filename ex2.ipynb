{
  "nbformat": 4,
  "nbformat_minor": 0,
  "metadata": {
    "colab": {
      "name": "ex2.ipynb",
      "provenance": [],
      "authorship_tag": "ABX9TyNgArEvsH4hkioeiLFEqHX1",
      "include_colab_link": true
    },
    "kernelspec": {
      "name": "python3",
      "display_name": "Python 3"
    }
  },
  "cells": [
    {
      "cell_type": "markdown",
      "metadata": {
        "id": "view-in-github",
        "colab_type": "text"
      },
      "source": [
        "<a href=\"https://colab.research.google.com/github/toan27062002/top9/blob/main/ex2.ipynb\" target=\"_parent\"><img src=\"https://colab.research.google.com/assets/colab-badge.svg\" alt=\"Open In Colab\"/></a>"
      ]
    },
    {
      "cell_type": "code",
      "metadata": {
        "id": "c7gbAn93GNHj"
      },
      "source": [
        "n=int(input(\"so lan lap: \"))\n",
        "for i in range(n):\n",
        "    \n",
        "    print('lan lap thu ',i+1 )\n",
        "    print(\"ax + b = c\")\n",
        "    a=float(input(\"a = \"))\n",
        "    b=float(input(\"b = \"))\n",
        "    c=float(input(\"c = \"))\n",
        "    if a==0 and b==c:\n",
        "        print(\"phuong trinh vo so nghiem\")\n",
        "    elif a==0 and b!=c:\n",
        "        print(\"phuong trinh vo nghiem\")\n",
        "    else:\n",
        "        print(\"x = \",(c-b)/a)\n",
        "    n-=1\n",
        "print(\" ket thuc\")"
      ],
      "execution_count": null,
      "outputs": []
    },
    {
      "cell_type": "code",
      "metadata": {
        "id": "1Ambj6wNGgaA"
      },
      "source": [
        "n=int(input(\"so lan lap: \"))\n",
        "i=0\n",
        "while n>0 :\n",
        "    i+=1\n",
        "    print('lan lap thu ',i )\n",
        "    print(\"ax + b = c\")\n",
        "    a=float(input(\"a = \"))\n",
        "    b=float(input(\"b = \"))\n",
        "    c=float(input(\"c = \"))\n",
        "    if a==0 and b==c:\n",
        "        print(\"phuong trinh vo so nghiem\")\n",
        "    elif a==0 and b!=c:\n",
        "        print(\"phuong trinh vo nghiem\")\n",
        "    else:\n",
        "        print(\"x = \",(c-b)/a)\n",
        "    n-=1\n",
        "print(\" ket thuc\")"
      ],
      "execution_count": null,
      "outputs": []
    }
  ]
}