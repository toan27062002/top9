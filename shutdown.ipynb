{
  "nbformat": 4,
  "nbformat_minor": 0,
  "metadata": {
    "colab": {
      "name": "shutdown.ipynb",
      "provenance": [],
      "authorship_tag": "ABX9TyMA2sugBh+E8oDgLpc4O5WL",
      "include_colab_link": true
    },
    "kernelspec": {
      "name": "python3",
      "display_name": "Python 3"
    }
  },
  "cells": [
    {
      "cell_type": "markdown",
      "metadata": {
        "id": "view-in-github",
        "colab_type": "text"
      },
      "source": [
        "<a href=\"https://colab.research.google.com/github/toan27062002/top9/blob/main/shutdown.ipynb\" target=\"_parent\"><img src=\"https://colab.research.google.com/assets/colab-badge.svg\" alt=\"Open In Colab\"/></a>"
      ]
    },
    {
      "cell_type": "code",
      "metadata": {
        "colab": {
          "base_uri": "https://localhost:8080/"
        },
        "id": "UR37SuKeIVqK",
        "outputId": "cd41a866-78ec-4026-8edb-c73246f5b4d5"
      },
      "source": [
        "import os\n",
        "import time\n",
        "while True :\n",
        "    a = input(\"do you want shutdown ? (y/n): \")\n",
        "    if a == 'n' or a == 'N':\n",
        "        print('please wait:')\n",
        "        for i in range(1 , 31):\n",
        "            print(i,\" \")\n",
        "            time.sleep(1) \n",
        "            \n",
        "    else:\n",
        "        os.system(\"shutdown /s /t 3\")\n",
        "        \n",
        "        break"
      ],
      "execution_count": 9,
      "outputs": [
        {
          "output_type": "stream",
          "text": [
            "do you want shutdown ? (y/n): n\n",
            "please wait:\n",
            "1  \n",
            "2  \n",
            "3  \n",
            "4  \n",
            "5  \n",
            "6  \n",
            "7  \n",
            "8  \n",
            "9  \n",
            "10  \n",
            "11  \n",
            "12  \n",
            "13  \n",
            "14  \n",
            "15  \n",
            "16  \n",
            "17  \n",
            "18  \n",
            "19  \n",
            "20  \n",
            "21  \n",
            "22  \n",
            "23  \n",
            "24  \n",
            "25  \n",
            "26  \n",
            "27  \n",
            "28  \n",
            "29  \n",
            "30  \n",
            "do you want shutdown ? (y/n): y\n"
          ],
          "name": "stdout"
        }
      ]
    }
  ]
}