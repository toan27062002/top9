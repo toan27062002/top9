{
  "nbformat": 4,
  "nbformat_minor": 0,
  "metadata": {
    "colab": {
      "name": "guimail.ipynb",
      "provenance": [],
      "authorship_tag": "ABX9TyMW7B7he6xEmcXQCpvgMpJJ",
      "include_colab_link": true
    },
    "kernelspec": {
      "name": "python3",
      "display_name": "Python 3"
    }
  },
  "cells": [
    {
      "cell_type": "markdown",
      "metadata": {
        "id": "view-in-github",
        "colab_type": "text"
      },
      "source": [
        "<a href=\"https://colab.research.google.com/github/toan27062002/top9/blob/main/guimail.ipynb\" target=\"_parent\"><img src=\"https://colab.research.google.com/assets/colab-badge.svg\" alt=\"Open In Colab\"/></a>"
      ]
    },
    {
      "cell_type": "code",
      "metadata": {
        "id": "vSXwB5nl0mHE"
      },
      "source": [
        "import smtplib\n",
        "import getpass\n",
        "n=int(input(\"so lan lap: \"))\n",
        "while n<=0:\n",
        "    n=int(input(\"so lan lap: \"))\n",
        "email = input(\"email: \")\n",
        "pwd = getpass.getpass(\" password: \")\n",
        "address = input(\"sent to: \")\n",
        "messenger = input(\"message: \")\n",
        "client = smtplib.SMTP(\"smtp.gmail.com\",587)\n",
        "client.starttls()\n",
        "client.login(email,pwd)\n",
        "for i in range(n):\n",
        "    client.sendmail(email,address,messenger)\n",
        "    print(\"tin nhan gui den\"+ address +\"lan thu \",i+1)\n",
        "client.quit()"
      ],
      "execution_count": null,
      "outputs": []
    }
  ]
}