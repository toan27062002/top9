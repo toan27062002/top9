{
  "nbformat": 4,
  "nbformat_minor": 0,
  "metadata": {
    "colab": {
      "name": "Untitled3.ipynb",
      "provenance": [],
      "authorship_tag": "ABX9TyOUAXK5/7sPJLdCzYCrcPPU",
      "include_colab_link": true
    },
    "kernelspec": {
      "name": "python3",
      "display_name": "Python 3"
    }
  },
  "cells": [
    {
      "cell_type": "markdown",
      "metadata": {
        "id": "view-in-github",
        "colab_type": "text"
      },
      "source": [
        "<a href=\"https://colab.research.google.com/github/toan27062002/top9/blob/main/ex5.ipynb\" target=\"_parent\"><img src=\"https://colab.research.google.com/assets/colab-badge.svg\" alt=\"Open In Colab\"/></a>"
      ]
    },
    {
      "cell_type": "code",
      "metadata": {
        "id": "qnMHEepTMeqY"
      },
      "source": [
        "import random\n",
        "import math\n",
        "list=random.sample(range(100), 10)\n",
        "for i in range(10):\n",
        "    print(\"phan tu thu \",i+1,' la ',list[i])\n",
        "    print('logarit cua phan tu thu ',i+1,' la ',math.log( list[i]))"
      ],
      "execution_count": null,
      "outputs": []
    }
  ]
}